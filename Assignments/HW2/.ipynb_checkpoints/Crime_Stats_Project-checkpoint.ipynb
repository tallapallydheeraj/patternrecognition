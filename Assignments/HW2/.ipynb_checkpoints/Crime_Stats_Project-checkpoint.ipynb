{
 "cells": [
  {
   "cell_type": "markdown",
   "id": "55e6b918-afac-43e8-b338-43f8ac64014f",
   "metadata": {
    "id": "55e6b918-afac-43e8-b338-43f8ac64014f"
   },
   "source": [
    "##  Deep Neural Networks Project"
   ]
  },
  {
   "cell_type": "markdown",
   "id": "1a8e066d-2849-4a6e-9c71-bb98d605ae07",
   "metadata": {
    "id": "1a8e066d-2849-4a6e-9c71-bb98d605ae07"
   },
   "source": [
    "In this project, you will be working with a real-world data set from the Las Vegas Metropolitan Police Department. The dataset  contains information about the reported incidents, including the time and location of the crime, type of incident, and number of persons involved."
   ]
  },
  {
   "cell_type": "markdown",
   "id": "9e87fac7-352a-4c39-b087-76254b5e2743",
   "metadata": {
    "id": "9e87fac7-352a-4c39-b087-76254b5e2743"
   },
   "source": [
    "The dataset is downloaded from the public docket at:\n",
    "https://opendata-lvmpd.hub.arcgis.com\n",
    "\n",
    "let's read the csv file and transform the data:"
   ]
  },
  {
   "cell_type": "code",
   "execution_count": 85,
   "id": "5988beae",
   "metadata": {
    "colab": {
     "base_uri": "https://localhost:8080/"
    },
    "id": "5988beae",
    "outputId": "346b9e15-cecb-42fd-f2e1-8f147745f56a"
   },
   "outputs": [
    {
     "name": "stdout",
     "output_type": "stream",
     "text": [
      "Requirement already satisfied: torch in c:\\users\\030742879\\anaconda3\\lib\\site-packages (2.1.0)\n",
      "Requirement already satisfied: fsspec in c:\\users\\030742879\\anaconda3\\lib\\site-packages (from torch) (2022.7.1)\n",
      "Requirement already satisfied: sympy in c:\\users\\030742879\\anaconda3\\lib\\site-packages (from torch) (1.10.1)\n",
      "Requirement already satisfied: filelock in c:\\users\\030742879\\anaconda3\\lib\\site-packages (from torch) (3.6.0)\n",
      "Requirement already satisfied: networkx in c:\\users\\030742879\\anaconda3\\lib\\site-packages (from torch) (2.8.4)\n",
      "Requirement already satisfied: jinja2 in c:\\users\\030742879\\anaconda3\\lib\\site-packages (from torch) (2.11.3)\n",
      "Requirement already satisfied: typing-extensions in c:\\users\\030742879\\anaconda3\\lib\\site-packages (from torch) (4.3.0)\n",
      "Requirement already satisfied: MarkupSafe>=0.23 in c:\\users\\030742879\\anaconda3\\lib\\site-packages (from jinja2->torch) (2.0.1)\n",
      "Requirement already satisfied: mpmath>=0.19 in c:\\users\\030742879\\anaconda3\\lib\\site-packages (from sympy->torch) (1.2.1)\n"
     ]
    }
   ],
   "source": [
    "!pip install torch"
   ]
  },
  {
   "cell_type": "code",
   "execution_count": 86,
   "id": "637211a4-582f-426b-a127-c3f284463f35",
   "metadata": {
    "id": "637211a4-582f-426b-a127-c3f284463f35"
   },
   "outputs": [],
   "source": [
    "import torch\n",
    "import pandas as pd\n",
    "from torch.utils.data import DataLoader, Dataset\n",
    "import matplotlib.pyplot as plt\n",
    "import seaborn as sns\n",
    "import numpy as np"
   ]
  },
  {
   "cell_type": "code",
   "execution_count": 87,
   "id": "bcf40b02-80b6-4abc-a662-f7ed50a65181",
   "metadata": {
    "id": "bcf40b02-80b6-4abc-a662-f7ed50a65181"
   },
   "outputs": [],
   "source": [
    "orig_df = pd.read_csv('../../datasets/LVMPD-Stats.csv', parse_dates=['ReportedOn'])"
   ]
  },
  {
   "cell_type": "code",
   "execution_count": 88,
   "id": "e1ca1d15-3955-4971-a3c4-c1a73b62edda",
   "metadata": {
    "id": "e1ca1d15-3955-4971-a3c4-c1a73b62edda"
   },
   "outputs": [],
   "source": [
    "df = pd.read_csv('../../datasets/LVMPD-Stats.csv', parse_dates=['ReportedOn'],\n",
    "                 usecols = ['X', 'Y', 'ReportedOn',\n",
    "                            'Area_Command','NIBRSOffenseCode',\n",
    "                            'VictimCount' ] )\n",
    "\n",
    "df['DayOfWeek'] = df['ReportedOn'].dt.day_name()\n",
    "df['Time' ]     = df['ReportedOn'].dt.hour\n",
    "df.drop(columns = 'ReportedOn', inplace=True)"
   ]
  },
  {
   "cell_type": "code",
   "execution_count": 89,
   "id": "3ddc413d-ba3f-4204-bc18-7fdd4de8d221",
   "metadata": {
    "id": "3ddc413d-ba3f-4204-bc18-7fdd4de8d221"
   },
   "outputs": [],
   "source": [
    "df['X'] = df['X']\n",
    "df['Y'] = df['Y']\n",
    "df['Time'] = pd.factorize(df['Time'])[0]\n",
    "df['DayOfWeek'] = pd.factorize(df['DayOfWeek'])[0]\n",
    "df.Area_Command = pd.factorize(df['Area_Command'])[0]\n",
    "df.VictimCount = pd.factorize(df['VictimCount'])[0]\n",
    "df.NIBRSOffenseCode = pd.factorize(df['NIBRSOffenseCode'])[0]\n",
    "df.dropna(inplace=True)"
   ]
  },
  {
   "cell_type": "code",
   "execution_count": 90,
   "id": "a9c6162f-9686-4195-818d-950a6368c686",
   "metadata": {
    "id": "a9c6162f-9686-4195-818d-950a6368c686"
   },
   "outputs": [],
   "source": [
    "df= df[['X', 'Y', 'Area_Command', 'NIBRSOffenseCode',\n",
    "       'DayOfWeek', 'Time','VictimCount']]"
   ]
  },
  {
   "cell_type": "code",
   "execution_count": 91,
   "id": "a90bc78a-6d1b-4fe4-a1b0-8333aec1c851",
   "metadata": {
    "colab": {
     "base_uri": "https://localhost:8080/"
    },
    "id": "a90bc78a-6d1b-4fe4-a1b0-8333aec1c851",
    "outputId": "3da8d993-e9d0-4e85-8a9b-dd0eeeedcb0c"
   },
   "outputs": [
    {
     "data": {
      "text/plain": [
       "(275, 7)"
      ]
     },
     "execution_count": 91,
     "metadata": {},
     "output_type": "execute_result"
    }
   ],
   "source": [
    "df.values.shape"
   ]
  },
  {
   "cell_type": "markdown",
   "id": "651605b1-8d2c-4d3e-a09e-9aef6e550fc6",
   "metadata": {
    "id": "651605b1-8d2c-4d3e-a09e-9aef6e550fc6"
   },
   "source": [
    "# Goal\n",
    "The goal is to build a predictive model that is trained on the following data:\n",
    "* latitude and longitude (location)\n",
    "* Hour of the day\n",
    "* Day of the week\n",
    "* Area-of-command code: The police designation of the bureau of the operation.\n",
    "* Classification code for the crime committed\n",
    "  \n",
    "The predicted variable is the number of persons involved in the accident.\n"
   ]
  },
  {
   "cell_type": "markdown",
   "id": "0e54f0b8-83f9-4db9-88f9-f5a595342069",
   "metadata": {
    "id": "0e54f0b8-83f9-4db9-88f9-f5a595342069"
   },
   "source": [
    "## Task 1\n",
    "* print a few rows of the values in the dataframe ``df`` and explain what each column of data means.\n",
    "* identify the input and target variables\n",
    "* what is the range of values in each column? Do you need to scale, shift or normalize your data?\n"
   ]
  },
  {
   "cell_type": "code",
   "execution_count": 92,
   "id": "1634445a",
   "metadata": {
    "colab": {
     "base_uri": "https://localhost:8080/"
    },
    "id": "1634445a",
    "outputId": "446a91f1-de32-435f-e140-b37f111b2483"
   },
   "outputs": [
    {
     "name": "stdout",
     "output_type": "stream",
     "text": [
      "            X          Y  Area_Command  NIBRSOffenseCode  DayOfWeek  Time  \\\n",
      "0 -115.087518  36.216702             0                 0          0     0   \n",
      "1 -115.240172  36.189693             1                 1          1     1   \n",
      "2 -115.143088  36.181329             2                 1          2     0   \n",
      "3 -115.225014  36.117633             3                 1          1     2   \n",
      "4 -115.176708  36.095967             4                 1          1     3   \n",
      "\n",
      "   VictimCount  \n",
      "0            0  \n",
      "1            0  \n",
      "2            1  \n",
      "3            2  \n",
      "4            0  \n"
     ]
    }
   ],
   "source": [
    "print(df.head())"
   ]
  },
  {
   "cell_type": "markdown",
   "id": "a7a8b3bd",
   "metadata": {
    "id": "a7a8b3bd"
   },
   "source": [
    "**X**: coordinates of the incident location\n",
    "\n",
    "**Y**: coordinates of the incident location\n",
    "\n",
    "**Area_Command**: The command area where the incident occurred\n",
    "\n",
    "**DayOfWeek**: Day of the week on which the incident reported\n",
    "\n",
    "**Time**: Time when the incident was reported\n",
    "\n",
    "**NIBRSOffenseCode**: Type of criminal offense\n",
    "\n",
    "**VictimCount**: Number of people involved in the incident\n",
    "\n",
    "Area_Command, DayOfWeek, Time, NIBRSOffenseCode, VictimCount are factorized such that the data in these columns now represent the data in numbers.\n",
    "\n",
    "`inputs` are *X*, *Y*, *Area_Command*, *DayOfWeek*, *Time*, *NIBRSOffenseCode*.\n",
    "\n",
    "`Target variable` is *VictimCount*"
   ]
  },
  {
   "cell_type": "code",
   "execution_count": 93,
   "id": "c3a679a5",
   "metadata": {},
   "outputs": [
    {
     "name": "stdout",
     "output_type": "stream",
     "text": [
      "             X          Y  Area_Command  NIBRSOffenseCode  DayOfWeek  Time  \\\n",
      "min -116.00000  35.068419           0.0               0.0        0.0   0.0   \n",
      "max -114.62557  37.000000          11.0               2.0        6.0  23.0   \n",
      "\n",
      "     VictimCount  \n",
      "min          0.0  \n",
      "max          6.0  \n"
     ]
    }
   ],
   "source": [
    "print(df.describe().loc[['min','max']])"
   ]
  },
  {
   "cell_type": "markdown",
   "id": "d89c0970",
   "metadata": {
    "id": "d89c0970"
   },
   "source": [
    "These columns need **no** scaling,shifting or normalizing the data as they are preprocessed."
   ]
  },
  {
   "cell_type": "markdown",
   "id": "5549ecc9-3c0b-4efa-9a1f-340a25a1e4be",
   "metadata": {
    "id": "5549ecc9-3c0b-4efa-9a1f-340a25a1e4be"
   },
   "source": [
    "## Task 2\n",
    "\n",
    "* Create two `DataLoader` objects for training and testing based on the input and output variables. Pick a reasonable batch size and verify the shape of data by iterating over the one dataset and printing the shape of the batched data."
   ]
  },
  {
   "cell_type": "code",
   "execution_count": 94,
   "id": "00fe4287-934b-4799-9e43-c3571acfbab4",
   "metadata": {
    "colab": {
     "base_uri": "https://localhost:8080/"
    },
    "id": "00fe4287-934b-4799-9e43-c3571acfbab4",
    "outputId": "1c4ab4c4-8e33-45d6-e1ec-e4e9d6d2fcb3"
   },
   "outputs": [
    {
     "name": "stdout",
     "output_type": "stream",
     "text": [
      "Batch X shape: torch.Size([64, 6])\n",
      "Batch Y shape: torch.Size([64])\n"
     ]
    }
   ],
   "source": [
    "import torch\n",
    "from torch.utils.data import DataLoader, TensorDataset\n",
    "\n",
    "# Prepare the input (X) and output (Y) variables\n",
    "X = df[['X', 'Y', 'Area_Command', 'NIBRSOffenseCode', 'DayOfWeek', 'Time']]\n",
    "Y = df['VictimCount']\n",
    "\n",
    "# Convert the Pandas DataFrames to PyTorch tensors\n",
    "X = torch.tensor(X.values, dtype=torch.float32)\n",
    "Y = torch.tensor(Y.values, dtype=torch.float32)\n",
    "\n",
    "# Define a reasonable batch size (e.g., 64)\n",
    "batch_size = 64\n",
    "\n",
    "# Create a TensorDataset for the data\n",
    "dataset = TensorDataset(X, Y)\n",
    "\n",
    "# Split the dataset into training and testing sets\n",
    "train_size = int(0.8 * len(dataset))\n",
    "test_size = len(dataset) - train_size\n",
    "train_dataset, test_dataset = torch.utils.data.random_split(dataset, [train_size, test_size])\n",
    "\n",
    "# Create DataLoader objects for training and testing\n",
    "train_loader = DataLoader(train_dataset, batch_size=batch_size, shuffle=True)\n",
    "test_loader = DataLoader(test_dataset, batch_size=batch_size, shuffle=False)\n",
    "\n",
    "# Verify the shape of data by iterating over the training dataset and printing the shape of a batched data\n",
    "for batch_X, batch_Y in train_loader:\n",
    "    print(\"Batch X shape:\", batch_X.shape)\n",
    "    print(\"Batch Y shape:\", batch_Y.shape)\n",
    "    break\n"
   ]
  },
  {
   "cell_type": "markdown",
   "id": "1fb6f08c-5e70-4b14-b62c-4686d9f7aace",
   "metadata": {
    "id": "1fb6f08c-5e70-4b14-b62c-4686d9f7aace"
   },
   "source": [
    "## Task 3\n",
    "In this task you will try to predict number of crime victims as a **real number**. Therefore the machine learning problem is a **regression** problem.\n",
    "\n",
    "* Define the proper loss function for this task\n",
    "* what should the size of the predicted output be?\n",
    "* explain your choice of architecture, including how many layers you will be using\n",
    "* define an optimizer for training this model, choose a proper learning rate\n",
    "* write a training loop that obtains a batch out of the  training data and calculates the forward and backward passes over the neural network. Call the optimizer to update the weights of the neural network.\n",
    "* write a for loop that continues the training over a number of epochs. At the end of each epoch, calculate the ``MSE`` error on the test data and print it.\n",
    "* is your model training well? Adjust the learning rate, hidden size of the network, and try different activation functions and number of layers to achieve the best accuracy and report it."
   ]
  },
  {
   "cell_type": "code",
   "execution_count": 95,
   "id": "9e10d191",
   "metadata": {
    "colab": {
     "base_uri": "https://localhost:8080/"
    },
    "id": "9e10d191",
    "outputId": "4a1f3c1c-3b9a-43fa-8d59-f2392f18a831"
   },
   "outputs": [
    {
     "name": "stdout",
     "output_type": "stream",
     "text": [
      "Epoch [1/50] - Train Loss: 1.5865, MSE error for test: 1.6878\n",
      "Epoch [2/50] - Train Loss: 1.6889, MSE error for test: 1.3515\n",
      "Epoch [3/50] - Train Loss: 1.3033, MSE error for test: 1.0523\n",
      "Epoch [4/50] - Train Loss: 1.4030, MSE error for test: 0.9842\n",
      "Epoch [5/50] - Train Loss: 1.0321, MSE error for test: 1.0121\n",
      "Epoch [6/50] - Train Loss: 1.1223, MSE error for test: 0.9582\n",
      "Epoch [7/50] - Train Loss: 0.9542, MSE error for test: 0.9200\n",
      "Epoch [8/50] - Train Loss: 0.9765, MSE error for test: 0.9054\n",
      "Epoch [9/50] - Train Loss: 0.9604, MSE error for test: 0.9042\n",
      "Epoch [10/50] - Train Loss: 0.9464, MSE error for test: 0.9116\n",
      "Epoch [11/50] - Train Loss: 1.0383, MSE error for test: 0.9015\n",
      "Epoch [12/50] - Train Loss: 1.1094, MSE error for test: 0.9082\n"
     ]
    },
    {
     "name": "stderr",
     "output_type": "stream",
     "text": [
      "C:\\Users\\030742879\\Anaconda3\\lib\\site-packages\\torch\\nn\\modules\\loss.py:535: UserWarning: Using a target size (torch.Size([64])) that is different to the input size (torch.Size([64, 1])). This will likely lead to incorrect results due to broadcasting. Please ensure they have the same size.\n",
      "  return F.mse_loss(input, target, reduction=self.reduction)\n",
      "C:\\Users\\030742879\\Anaconda3\\lib\\site-packages\\torch\\nn\\modules\\loss.py:535: UserWarning: Using a target size (torch.Size([28])) that is different to the input size (torch.Size([28, 1])). This will likely lead to incorrect results due to broadcasting. Please ensure they have the same size.\n",
      "  return F.mse_loss(input, target, reduction=self.reduction)\n",
      "C:\\Users\\030742879\\Anaconda3\\lib\\site-packages\\torch\\nn\\modules\\loss.py:535: UserWarning: Using a target size (torch.Size([55])) that is different to the input size (torch.Size([55, 1])). This will likely lead to incorrect results due to broadcasting. Please ensure they have the same size.\n",
      "  return F.mse_loss(input, target, reduction=self.reduction)\n"
     ]
    },
    {
     "name": "stdout",
     "output_type": "stream",
     "text": [
      "Epoch [13/50] - Train Loss: 1.0101, MSE error for test: 0.9258\n",
      "Epoch [14/50] - Train Loss: 0.9825, MSE error for test: 0.9529\n",
      "Epoch [15/50] - Train Loss: 1.0003, MSE error for test: 0.9186\n",
      "Epoch [16/50] - Train Loss: 1.1397, MSE error for test: 0.8981\n",
      "Epoch [17/50] - Train Loss: 0.9833, MSE error for test: 0.9076\n",
      "Epoch [18/50] - Train Loss: 0.9808, MSE error for test: 0.9117\n",
      "Epoch [19/50] - Train Loss: 1.1734, MSE error for test: 0.8954\n",
      "Epoch [20/50] - Train Loss: 0.9338, MSE error for test: 0.8940\n",
      "Epoch [21/50] - Train Loss: 0.9495, MSE error for test: 0.8957\n",
      "Epoch [22/50] - Train Loss: 0.9328, MSE error for test: 0.8925\n",
      "Epoch [23/50] - Train Loss: 1.0019, MSE error for test: 0.8923\n",
      "Epoch [24/50] - Train Loss: 0.9159, MSE error for test: 0.9085\n",
      "Epoch [25/50] - Train Loss: 1.0395, MSE error for test: 0.9063\n",
      "Epoch [26/50] - Train Loss: 1.0052, MSE error for test: 0.9017\n",
      "Epoch [27/50] - Train Loss: 1.0201, MSE error for test: 0.8939\n",
      "Epoch [28/50] - Train Loss: 1.1745, MSE error for test: 0.8918\n",
      "Epoch [29/50] - Train Loss: 0.9936, MSE error for test: 0.8917\n",
      "Epoch [30/50] - Train Loss: 0.9282, MSE error for test: 0.8980\n",
      "Epoch [31/50] - Train Loss: 0.9734, MSE error for test: 0.8944\n",
      "Epoch [32/50] - Train Loss: 0.9494, MSE error for test: 0.8957\n",
      "Epoch [33/50] - Train Loss: 0.9204, MSE error for test: 0.9309\n",
      "Epoch [34/50] - Train Loss: 1.1530, MSE error for test: 0.9382\n",
      "Epoch [35/50] - Train Loss: 1.1796, MSE error for test: 0.8932\n",
      "Epoch [36/50] - Train Loss: 0.9449, MSE error for test: 0.8977\n",
      "Epoch [37/50] - Train Loss: 0.9256, MSE error for test: 0.9186\n",
      "Epoch [38/50] - Train Loss: 1.0255, MSE error for test: 0.8905\n",
      "Epoch [39/50] - Train Loss: 0.9871, MSE error for test: 0.8938\n",
      "Epoch [40/50] - Train Loss: 1.0789, MSE error for test: 0.9068\n",
      "Epoch [41/50] - Train Loss: 1.1225, MSE error for test: 0.9049\n",
      "Epoch [42/50] - Train Loss: 0.9317, MSE error for test: 0.9066\n",
      "Epoch [43/50] - Train Loss: 0.9645, MSE error for test: 0.8898\n",
      "Epoch [44/50] - Train Loss: 0.9315, MSE error for test: 0.9301\n",
      "Epoch [45/50] - Train Loss: 1.0778, MSE error for test: 0.9076\n",
      "Epoch [46/50] - Train Loss: 0.9278, MSE error for test: 0.9014\n",
      "Epoch [47/50] - Train Loss: 0.9219, MSE error for test: 0.8917\n",
      "Epoch [48/50] - Train Loss: 0.9173, MSE error for test: 0.8912\n",
      "Epoch [49/50] - Train Loss: 0.9995, MSE error for test: 0.8903\n",
      "Epoch [50/50] - Train Loss: 1.0597, MSE error for test: 0.8898\n"
     ]
    }
   ],
   "source": [
    "import torch\n",
    "import torch.nn as nn\n",
    "import torch.optim as optim\n",
    "\n",
    "# Define the loss function for regression (Mean Squared Error)\n",
    "loss_function = nn.MSELoss()\n",
    "\n",
    "# Define the input size based on your dataset\n",
    "input_size = 6\n",
    "\n",
    "# Define the neural network architecture for regression\n",
    "class Regression(nn.Module):\n",
    "    def __init__(self, input_size):\n",
    "        super(Regression, self).__init__()\n",
    "        self.fc1 = nn.Linear(input_size, 64)\n",
    "        self.relu = nn.ReLU()\n",
    "        self.fc2 = nn.Linear(64, 32)\n",
    "        self.fc3 = nn.Linear(32, 1)\n",
    "\n",
    "    def forward(self, x):\n",
    "        x = self.fc1(x)\n",
    "        x = self.relu(x)\n",
    "        x = self.fc2(x)\n",
    "        x = self.relu(x)\n",
    "        x = self.fc3(x)\n",
    "        return x\n",
    "\n",
    "# Create an instance of the regression model\n",
    "model = Regression(input_size)\n",
    "\n",
    "# Define the optimizer (e.g., Adam) with a proper learning rate\n",
    "optimizer = optim.Adam(model.parameters(), lr=0.001)\n",
    "\n",
    "# Specify the number of training epochs\n",
    "num_epochs = 50\n",
    "\n",
    "# Training loop\n",
    "for epoch in range(num_epochs):\n",
    "    model.train()\n",
    "    train_loss = 0.0\n",
    "\n",
    "    for batch_X, batch_Y in train_loader:\n",
    "        optimizer.zero_grad()\n",
    "        predictions = model(batch_X)\n",
    "        loss = loss_function(predictions, batch_Y)\n",
    "        loss.backward()\n",
    "        optimizer.step()\n",
    "        train_loss += loss.item()\n",
    "\n",
    "    train_loss /= len(train_loader)\n",
    "\n",
    "    model.eval()\n",
    "    test_loss = 0.0\n",
    "\n",
    "    with torch.no_grad():\n",
    "        for batch_X, batch_Y in test_loader:\n",
    "            predictions = model(batch_X)\n",
    "            loss = loss_function(predictions, batch_Y)\n",
    "            test_loss += loss.item()\n",
    "\n",
    "    test_loss /= len(test_loader)\n",
    "\n",
    "    print(f\"Epoch [{epoch + 1}/{num_epochs}] - Train Loss: {train_loss:.4f}, MSE error for test: {test_loss:.4f}\")\n"
   ]
  },
  {
   "cell_type": "markdown",
   "id": "86e3fc70-c6ce-4589-9930-128951290e8d",
   "metadata": {
    "id": "86e3fc70-c6ce-4589-9930-128951290e8d"
   },
   "source": [
    "## Task 4\n",
    "\n",
    "In this task, you will try to predict the number of crime victims as a **class number**. Therefore the machine learning problem is a **classification** problem.\n",
    "\n",
    "* Repeat all the steps in task 3. Specifically, pay attention to the differences with regression.\n",
    "* How would you find the number of classes on the output data?\n",
    "* How is the architecture different?\n",
    "* How is the loss function different?\n",
    "* Calculate the Accuracy for test data as the number of correct classified outputs divided by the total number of test data in each epoch. Report it at the end of each epoch\n",
    "* Try a few variations of learning rate, hidden dimensions, layers, etc. What is the best accuracy that you can get?"
   ]
  },
  {
   "cell_type": "markdown",
   "id": "339cfe68",
   "metadata": {
    "id": "339cfe68"
   },
   "source": [
    "**Number of Classes:**\n",
    "To determine the number of classes for the classification problem, you can look at the unique values in the 'VictimCount' column in your dataset. In your given data, you mentioned that 'VictimCount' has a maximum value of 15. This means you have 16 different classes (0 to 15) to predict.\n",
    "\n",
    "**Architecture Differences:**\n",
    "For a classification task, you should use a neural network architecture designed for classification. You can use a model with a final layer that has as many output units as there are classes (16 in this case) and use an appropriate activation function like Softmax to convert the network's output into class probabilities.\n",
    "\n",
    "**Loss Function Differences:**\n",
    "In classification problems, you typically use a different loss function, such as Cross-Entropy (also known as Negative Log-Likelihood) loss. This loss function measures the dissimilarity between the predicted class probabilities and the true class labels.\n",
    "\n",
    "**Accuracy Calculation:**\n",
    "To calculate accuracy on the test data, you need to compare the model's predicted class labels to the true class labels and calculate the proportion of correct predictions. This can be done at the end of each epoch."
   ]
  },
  {
   "cell_type": "code",
   "execution_count": 96,
   "id": "7d929c52-af34-4081-92cd-3463a3fc4db1",
   "metadata": {
    "colab": {
     "base_uri": "https://localhost:8080/"
    },
    "id": "7d929c52-af34-4081-92cd-3463a3fc4db1",
    "outputId": "6335f6a0-5c6b-4e9d-90d4-9dd26be811ff"
   },
   "outputs": [
    {
     "name": "stdout",
     "output_type": "stream",
     "text": [
      "Epoch [1/50] - Train Loss: 5.4071, Train Accuracy: 0.0045, Test Loss: 4.6769, Test Accuracy: 0.0000\n",
      "Epoch [2/50] - Train Loss: 4.0903, Train Accuracy: 0.0091, Test Loss: 3.5757, Test Accuracy: 0.0182\n",
      "Epoch [3/50] - Train Loss: 3.0796, Train Accuracy: 0.1455, Test Loss: 2.8569, Test Accuracy: 0.4909\n",
      "Epoch [4/50] - Train Loss: 2.6046, Train Accuracy: 0.5136, Test Loss: 2.5009, Test Accuracy: 0.5091\n",
      "Epoch [5/50] - Train Loss: 2.3061, Train Accuracy: 0.5182, Test Loss: 2.2151, Test Accuracy: 0.5091\n",
      "Epoch [6/50] - Train Loss: 1.9659, Train Accuracy: 0.5182, Test Loss: 1.8983, Test Accuracy: 0.5091\n",
      "Epoch [7/50] - Train Loss: 1.7439, Train Accuracy: 0.5182, Test Loss: 1.6033, Test Accuracy: 0.5091\n",
      "Epoch [8/50] - Train Loss: 1.4641, Train Accuracy: 0.5182, Test Loss: 1.4278, Test Accuracy: 0.5091\n",
      "Epoch [9/50] - Train Loss: 1.3387, Train Accuracy: 0.4818, Test Loss: 1.3917, Test Accuracy: 0.4182\n",
      "Epoch [10/50] - Train Loss: 1.2655, Train Accuracy: 0.3591, Test Loss: 1.3874, Test Accuracy: 0.3818\n",
      "Epoch [11/50] - Train Loss: 1.3127, Train Accuracy: 0.3727, Test Loss: 1.3354, Test Accuracy: 0.3818\n",
      "Epoch [12/50] - Train Loss: 1.2283, Train Accuracy: 0.4000, Test Loss: 1.2622, Test Accuracy: 0.4000\n",
      "Epoch [13/50] - Train Loss: 1.2039, Train Accuracy: 0.4136, Test Loss: 1.2172, Test Accuracy: 0.5091\n",
      "Epoch [14/50] - Train Loss: 1.2162, Train Accuracy: 0.5091, Test Loss: 1.1935, Test Accuracy: 0.5091\n",
      "Epoch [15/50] - Train Loss: 1.1998, Train Accuracy: 0.5182, Test Loss: 1.1678, Test Accuracy: 0.5091\n",
      "Epoch [16/50] - Train Loss: 1.1432, Train Accuracy: 0.5182, Test Loss: 1.1383, Test Accuracy: 0.5091\n",
      "Epoch [17/50] - Train Loss: 1.1404, Train Accuracy: 0.5182, Test Loss: 1.1174, Test Accuracy: 0.4909\n",
      "Epoch [18/50] - Train Loss: 1.1128, Train Accuracy: 0.5136, Test Loss: 1.1047, Test Accuracy: 0.4727\n",
      "Epoch [19/50] - Train Loss: 1.1442, Train Accuracy: 0.4455, Test Loss: 1.0963, Test Accuracy: 0.4000\n",
      "Epoch [20/50] - Train Loss: 1.0940, Train Accuracy: 0.4636, Test Loss: 1.0825, Test Accuracy: 0.4727\n",
      "Epoch [21/50] - Train Loss: 1.0809, Train Accuracy: 0.5136, Test Loss: 1.0725, Test Accuracy: 0.5091\n",
      "Epoch [22/50] - Train Loss: 1.0792, Train Accuracy: 0.5182, Test Loss: 1.0671, Test Accuracy: 0.5091\n",
      "Epoch [23/50] - Train Loss: 1.0950, Train Accuracy: 0.5182, Test Loss: 1.0636, Test Accuracy: 0.5091\n",
      "Epoch [24/50] - Train Loss: 1.1172, Train Accuracy: 0.5182, Test Loss: 1.0621, Test Accuracy: 0.5091\n",
      "Epoch [25/50] - Train Loss: 1.0924, Train Accuracy: 0.5182, Test Loss: 1.0591, Test Accuracy: 0.5091\n",
      "Epoch [26/50] - Train Loss: 1.1566, Train Accuracy: 0.5182, Test Loss: 1.0581, Test Accuracy: 0.5091\n",
      "Epoch [27/50] - Train Loss: 1.1238, Train Accuracy: 0.5182, Test Loss: 1.0549, Test Accuracy: 0.5091\n",
      "Epoch [28/50] - Train Loss: 1.0675, Train Accuracy: 0.5182, Test Loss: 1.0533, Test Accuracy: 0.5091\n",
      "Epoch [29/50] - Train Loss: 1.0931, Train Accuracy: 0.5182, Test Loss: 1.0542, Test Accuracy: 0.5091\n",
      "Epoch [30/50] - Train Loss: 1.1261, Train Accuracy: 0.5182, Test Loss: 1.0528, Test Accuracy: 0.5091\n",
      "Epoch [31/50] - Train Loss: 1.1046, Train Accuracy: 0.5182, Test Loss: 1.0527, Test Accuracy: 0.5091\n",
      "Epoch [32/50] - Train Loss: 1.1213, Train Accuracy: 0.5182, Test Loss: 1.0518, Test Accuracy: 0.5091\n",
      "Epoch [33/50] - Train Loss: 1.1275, Train Accuracy: 0.5182, Test Loss: 1.0505, Test Accuracy: 0.5091\n",
      "Epoch [34/50] - Train Loss: 1.1284, Train Accuracy: 0.5182, Test Loss: 1.0505, Test Accuracy: 0.5091\n",
      "Epoch [35/50] - Train Loss: 1.0858, Train Accuracy: 0.5182, Test Loss: 1.0500, Test Accuracy: 0.5091\n",
      "Epoch [36/50] - Train Loss: 1.0738, Train Accuracy: 0.5182, Test Loss: 1.0483, Test Accuracy: 0.5091\n",
      "Epoch [37/50] - Train Loss: 1.0743, Train Accuracy: 0.5182, Test Loss: 1.0476, Test Accuracy: 0.5091\n",
      "Epoch [38/50] - Train Loss: 1.0810, Train Accuracy: 0.5182, Test Loss: 1.0480, Test Accuracy: 0.5091\n",
      "Epoch [39/50] - Train Loss: 1.0630, Train Accuracy: 0.5182, Test Loss: 1.0481, Test Accuracy: 0.5091\n",
      "Epoch [40/50] - Train Loss: 1.0526, Train Accuracy: 0.5182, Test Loss: 1.0488, Test Accuracy: 0.5091\n",
      "Epoch [41/50] - Train Loss: 1.0669, Train Accuracy: 0.5182, Test Loss: 1.0510, Test Accuracy: 0.5091\n",
      "Epoch [42/50] - Train Loss: 1.1037, Train Accuracy: 0.5182, Test Loss: 1.0522, Test Accuracy: 0.5091\n",
      "Epoch [43/50] - Train Loss: 1.0813, Train Accuracy: 0.5182, Test Loss: 1.0490, Test Accuracy: 0.5091\n",
      "Epoch [44/50] - Train Loss: 1.0661, Train Accuracy: 0.5182, Test Loss: 1.0471, Test Accuracy: 0.5091\n",
      "Epoch [45/50] - Train Loss: 1.0936, Train Accuracy: 0.5182, Test Loss: 1.0463, Test Accuracy: 0.5091\n",
      "Epoch [46/50] - Train Loss: 1.1103, Train Accuracy: 0.5182, Test Loss: 1.0449, Test Accuracy: 0.5091\n",
      "Epoch [47/50] - Train Loss: 1.1153, Train Accuracy: 0.5182, Test Loss: 1.0433, Test Accuracy: 0.5091\n",
      "Epoch [48/50] - Train Loss: 1.1031, Train Accuracy: 0.5182, Test Loss: 1.0432, Test Accuracy: 0.5091\n",
      "Epoch [49/50] - Train Loss: 1.0764, Train Accuracy: 0.5182, Test Loss: 1.0433, Test Accuracy: 0.5091\n",
      "Epoch [50/50] - Train Loss: 1.0818, Train Accuracy: 0.5182, Test Loss: 1.0431, Test Accuracy: 0.5091\n"
     ]
    }
   ],
   "source": [
    "import torch\n",
    "import torch.nn as nn\n",
    "import torch.optim as optim\n",
    "\n",
    "# Define the loss function for classification (Cross-Entropy Loss)\n",
    "loss_function = nn.CrossEntropyLoss()\n",
    "\n",
    "# Define the input size, number of classes, and other hyperparameters\n",
    "input_size = 6\n",
    "no_of_classes = 7\n",
    "\n",
    "# Define the neural network architecture for classification\n",
    "class Classification(nn.Module):\n",
    "    def __init__(self, input_size, no_of_classes):\n",
    "        super(Classification, self).__init__()\n",
    "        self.fc1 = nn.Linear(input_size, 128)\n",
    "        self.relu = nn.ReLU()\n",
    "        self.fc2 = nn.Linear(128, 64)\n",
    "        self.fc3 = nn.Linear(64, no_of_classes)\n",
    "\n",
    "    def forward(self, x):\n",
    "        x = self.fc1(x)\n",
    "        x = self.relu(x)\n",
    "        x = self.fc2(x)\n",
    "        x = self.relu(x)\n",
    "        x = self.fc3(x)\n",
    "        return x\n",
    "\n",
    "# Create an instance of the classification model\n",
    "model = Classification(input_size, no_of_classes)\n",
    "\n",
    "# Define the optimizer (e.g., Adam) with a proper learning rate\n",
    "optimizer = optim.Adam(model.parameters(), lr=0.0001)\n",
    "\n",
    "# Specify the number of training epochs\n",
    "num_epochs = 50\n",
    "\n",
    "# Training and evaluation loop\n",
    "for epoch in range(num_epochs):\n",
    "    model.train()\n",
    "    train_loss = 0.0\n",
    "    correct_train = 0\n",
    "\n",
    "    for batch_X, batch_Y in train_loader:\n",
    "        optimizer.zero_grad()\n",
    "        predictions = model(batch_X)\n",
    "\n",
    "        batch_Y = batch_Y.to(torch.long)\n",
    "\n",
    "        loss = loss_function(predictions, batch_Y)\n",
    "        loss.backward()\n",
    "        optimizer.step()\n",
    "        train_loss += loss.item()\n",
    "\n",
    "        _, predicted = torch.max(predictions, 1)\n",
    "        correct_train += (predicted == batch_Y).sum().item()\n",
    "\n",
    "    train_loss /= len(train_loader)\n",
    "    train_accuracy = correct_train / len(train_loader.dataset)\n",
    "\n",
    "    model.eval()\n",
    "    test_loss = 0.0\n",
    "    correct_test = 0\n",
    "\n",
    "    with torch.no_grad():\n",
    "        for batch_X, batch_Y in test_loader:\n",
    "            predictions = model(batch_X)\n",
    "\n",
    "            batch_Y = batch_Y.to(torch.long)\n",
    "\n",
    "            loss = loss_function(predictions, batch_Y)\n",
    "            test_loss += loss.item()\n",
    "\n",
    "            _, predicted = torch.max(predictions, 1)\n",
    "            correct_test += (predicted == batch_Y).sum().item()\n",
    "\n",
    "    test_loss /= len(test_loader)\n",
    "    test_accuracy = correct_test / len(test_loader.dataset)\n",
    "\n",
    "    print(f\"Epoch [{epoch + 1}/{num_epochs}] - Train Loss: {train_loss:.4f}, Train Accuracy: {train_accuracy:.4f}, Test Loss: {test_loss:.4f}, Test Accuracy: {test_accuracy:.4f}\")\n"
   ]
  },
  {
   "cell_type": "code",
   "execution_count": 97,
   "id": "XbxZbytp8v55",
   "metadata": {
    "colab": {
     "base_uri": "https://localhost:8080/"
    },
    "id": "XbxZbytp8v55",
    "outputId": "7d2a29ce-b4ec-4ccd-925a-67683c6d0f7d"
   },
   "outputs": [
    {
     "name": "stdout",
     "output_type": "stream",
     "text": [
      "Best Test Accuracy: 0.5091\n"
     ]
    }
   ],
   "source": [
    "import numpy as np\n",
    "from sklearn.model_selection import train_test_split\n",
    "\n",
    "learning_rates = [0.001, 0.01, 0.1]\n",
    "hidden_layer_dimensions = [(64, 32), (128, 64), (256, 128)]\n",
    "\n",
    "best_accuracy = 0.0\n",
    "best_model = None\n",
    "\n",
    "for lr in learning_rates:\n",
    "    for hidden_dim in hidden_layer_dimensions:\n",
    "        class NeuralNetworkC(nn.Module):\n",
    "            def __init__(self, input_size, no_of_classes):\n",
    "                super(NeuralNetworkC, self).__init__()\n",
    "                self.fc1 = nn.Linear(input_size, hidden_dim[0])\n",
    "                self.relu = nn.ReLU()\n",
    "                self.fc2 = nn.Linear(hidden_dim[0], hidden_dim[1])\n",
    "                self.fc3 = nn.Linear(hidden_dim[1], no_of_classes)\n",
    "\n",
    "            def forward(self, x):\n",
    "                x = self.fc1(x)\n",
    "                x = self.relu(x)\n",
    "                x = self.fc2(x)\n",
    "                x = self.relu(x)\n",
    "                x = self.fc3(x)\n",
    "                return x\n",
    "\n",
    "        model = NeuralNetworkC(input_size, no_of_classes)\n",
    "        loss_function = nn.CrossEntropyLoss()\n",
    "        optimizer = optim.Adam(model.parameters(), lr=lr)\n",
    "\n",
    "        num_epochs = 50\n",
    "\n",
    "        for epoch in range(num_epochs):\n",
    "            model.train()\n",
    "            train_loss = 0.0\n",
    "            correct_train = 0\n",
    "\n",
    "            for batch_X, batch_Y in train_loader:\n",
    "                optimizer.zero_grad()\n",
    "                predictions = model(batch_X)\n",
    "\n",
    "                batch_Y = batch_Y.to(torch.long)\n",
    "\n",
    "                loss = loss_function(predictions, batch_Y)\n",
    "                loss.backward()\n",
    "                optimizer.step()\n",
    "\n",
    "                _, predicted = torch.max(predictions, 1)\n",
    "                correct_train += (predicted == batch_Y).sum().item()\n",
    "\n",
    "            train_loss /= len(train_loader)\n",
    "            train_accuracy = correct_train / len(train_loader.dataset)\n",
    "\n",
    "            model.eval()\n",
    "            test_loss = 0.0\n",
    "            correct_test = 0\n",
    "\n",
    "            with torch.no_grad():\n",
    "                for batch_X, batch_Y in test_loader:\n",
    "                    predictions = model(batch_X)\n",
    "                    batch_Y = batch_Y.to(torch.long)\n",
    "\n",
    "                    loss = loss_function(predictions, batch_Y)\n",
    "                    test_loss += loss.item()\n",
    "\n",
    "                    _, predicted = torch.max(predictions, 1)\n",
    "                    correct_test += (predicted == batch_Y).sum().item()\n",
    "\n",
    "            test_loss /= len(test_loader)\n",
    "            test_accuracy = correct_test / len(test_loader.dataset)\n",
    "\n",
    "        if test_accuracy > best_accuracy:\n",
    "            best_accuracy = test_accuracy\n",
    "            best_model = model\n",
    "\n",
    "print(f\"Best Test Accuracy: {best_accuracy:.4f}\")\n"
   ]
  },
  {
   "cell_type": "markdown",
   "id": "84d2a304-6197-4cd9-b31e-745f7862f213",
   "metadata": {
    "id": "84d2a304-6197-4cd9-b31e-745f7862f213"
   },
   "source": [
    "## Task 5"
   ]
  },
  {
   "cell_type": "markdown",
   "id": "d6e4ef16-d828-45e5-bd58-1c49fcfecf52",
   "metadata": {
    "id": "d6e4ef16-d828-45e5-bd58-1c49fcfecf52"
   },
   "source": [
    "### Reflect on your results\n",
    "\n",
    "* Write a paragraph about your experience with tasks 3 and 4. How do you compare the results? Which one worked better? Why?\n",
    "* Write a piece of code that finds an example of a  miss-classification. Calculate the probabilities for the output classes and plot them in a bar chart. Also, indicate what is the correct class label."
   ]
  },
  {
   "cell_type": "markdown",
   "id": "3cf70fd6",
   "metadata": {
    "id": "3cf70fd6"
   },
   "source": [
    "We've addressed two distinct machine learning challenges: regression and classification, both with the objective of forecasting the number of crime victims. Regression revolves around predicting a continuous numeric outcome, while classification entails classifying data into distinct categories. I've supplied code and guidance for both tasks. The choice between these approaches hinges on the specific objectives and criteria for success.\n",
    "\n",
    "Regression is well-suited for scenarios where the aim is to predict precise numerical values, and its performance can be assessed using metrics such as Mean Squared Error (MSE). In contrast, classification is designed for tasks involving the allocation of data into predefined classes, with accuracy and other classification metrics serving as common measures of performance. The selection between regression and classification hinges on the nature of the problem and the analytical objectives. If the primary goal is to forecast the exact count of crime victims, regression is typically the more appropriate choice. However, if the objective is to categorize crime incidents into severity classes (e.g., low, medium, high), classification becomes the preferred approach."
   ]
  },
  {
   "cell_type": "code",
   "execution_count": 98,
   "id": "c9dc3a3f",
   "metadata": {
    "colab": {
     "base_uri": "https://localhost:8080/",
     "height": 489
    },
    "id": "c9dc3a3f",
    "outputId": "0881286d-d797-4dab-f126-9e0db53e9351"
   },
   "outputs": [
    {
     "name": "stdout",
     "output_type": "stream",
     "text": [
      "Misclassified Example True Label: 1.0\n"
     ]
    },
    {
     "data": {
      "image/png": "[encoded data removed]",
      "text/plain": [
       "<Figure size 640x480 with 1 Axes>"
      ]
     },
     "metadata": {},
     "output_type": "display_data"
    }
   ],
   "source": [
    "model.eval()\n",
    "\n",
    "misclassified_examples = []\n",
    "true_labels = []\n",
    "\n",
    "for batch_X, batch_Y in test_loader:\n",
    "    predictions = model(batch_X)\n",
    "    predicted_labels = torch.argmax(predictions, dim=1)\n",
    "\n",
    "    misclassified_indices = (predicted_labels != batch_Y).nonzero()\n",
    "\n",
    "    if misclassified_indices.numel() > 0:\n",
    "        misclassified_examples.extend(batch_X[misclassified_indices])\n",
    "        true_labels.extend(batch_Y[misclassified_indices])\n",
    "        break\n",
    "\n",
    "if len(misclassified_examples) > 0:\n",
    "    misclassified_example = misclassified_examples[0]\n",
    "    true_label = true_labels[0]\n",
    "\n",
    "    print(f'Misclassified Example True Label: {true_label.item()}')\n",
    "\n",
    "    probabilities = torch.softmax(predictions[0], dim=0).tolist()\n",
    "    class_labels = list(range(no_of_classes))\n",
    "\n",
    "    plt.bar(class_labels, probabilities, tick_label=class_labels)\n",
    "    plt.xlabel('Class Labels')\n",
    "    plt.ylabel('Class Probabilities')\n",
    "    plt.title('Class Probabilities for Misclassified Example')\n",
    "    plt.show()\n",
    "else:\n",
    "    print(\"No misclassified examples found in the test data.\")\n"
   ]
  },
  {
   "cell_type": "markdown",
   "id": "5b000b0b-fa37-4f8d-8ec7-0a1e6e749424",
   "metadata": {
    "id": "5b000b0b-fa37-4f8d-8ec7-0a1e6e749424"
   },
   "source": [
    "## Task 6: Exploring the patterns in raw data\n",
    "\n",
    "* Plot the crime incidents as a `scatter` plot using the corrdinates. Use the color property of each datapoint to indicate the day of the week. Is there a pattern in the plot?\n",
    "* Now make a new scatter plot and use the color property of each datapoint to indicate the number of persons involved in the incident. Is there a pattern here?\n",
    "* use numpy (or pandas if you like) to sort the number of crimes reported by the day of the week. What days are most frequent?\n"
   ]
  },
  {
   "cell_type": "code",
   "execution_count": 99,
   "id": "5b396aaf-5d1a-49cd-ae1d-b63af7e561f5",
   "metadata": {
    "colab": {
     "base_uri": "https://localhost:8080/",
     "height": 1000
    },
    "id": "5b396aaf-5d1a-49cd-ae1d-b63af7e561f5",
    "outputId": "e55c9338-9015-4909-b17f-ad0e3b730721"
   },
   "outputs": [
    {
     "data": {
      "image/png": "[encoded data removed]",
      "text/plain": [
       "<Figure size 1000x600 with 2 Axes>"
      ]
     },
     "metadata": {},
     "output_type": "display_data"
    },
    {
     "data": {
      "image/png": "[encoded data removed]",
      "text/plain": [
       "<Figure size 1000x600 with 2 Axes>"
      ]
     },
     "metadata": {},
     "output_type": "display_data"
    },
    {
     "name": "stdout",
     "output_type": "stream",
     "text": [
      "Most frequent day for reported crimes: Friday\n"
     ]
    }
   ],
   "source": [
    "from matplotlib import ticker\n",
    "\n",
    "crime_counts_by_day = df['DayOfWeek'].value_counts().sort_index()\n",
    "\n",
    "day_names = ['Monday', 'Tuesday', 'Wednesday', 'Thursday', 'Friday', 'Saturday', 'Sunday']\n",
    "\n",
    "plt.figure(figsize=(10, 6))\n",
    "colors = ['Monday', 'Tuesday', 'Wednesday', 'Thursday', 'Friday', 'Saturday', 'Sunday']\n",
    "scatter = plt.scatter(df['X'], df['Y'], c=df['DayOfWeek'], cmap='viridis', alpha=0.5)\n",
    "plt.xlabel('Longitude (X)')\n",
    "plt.ylabel('Latitude (Y)')\n",
    "plt.title('Crime Incidents by Day of the Week')\n",
    "plt.colorbar(scatter, label='Day of the Week', ticks=range(7), format=ticker.FuncFormatter(lambda x, pos: colors[int(x)]))\n",
    "plt.show()\n",
    "\n",
    "plt.figure(figsize=(10, 6))\n",
    "scatter = plt.scatter(df['X'], df['Y'], c=df['VictimCount'], cmap='coolwarm', alpha=0.5)\n",
    "plt.xlabel('Longitude (X)')\n",
    "plt.ylabel('Latitude (Y)')\n",
    "plt.title('Crime Incidents by Number of Persons Involved')\n",
    "plt.colorbar(scatter, label='Number of Persons Involved')\n",
    "plt.show()\n",
    "\n",
    "most_frequent_day = day_names[crime_counts_by_day.idxmax()]\n",
    "print(f\"Most frequent day for reported crimes: {most_frequent_day}\")\n"
   ]
  },
  {
   "cell_type": "code",
   "execution_count": null,
   "id": "0g9BkGpLkzue",
   "metadata": {
    "id": "0g9BkGpLkzue"
   },
   "outputs": [],
   "source": []
  }
 ],
 "metadata": {
  "accelerator": "GPU",
  "colab": {
   "gpuType": "T4",
   "provenance": []
  },
  "kernelspec": {
   "display_name": "Python 3 (ipykernel)",
   "language": "python",
   "name": "python3"
  },
  "language_info": {
   "codemirror_mode": {
    "name": "ipython",
    "version": 3
   },
   "file_extension": ".py",
   "mimetype": "text/x-python",
   "name": "python",
   "nbconvert_exporter": "python",
   "pygments_lexer": "ipython3",
   "version": "3.9.13"
  }
 },
 "nbformat": 4,
 "nbformat_minor": 5
}
