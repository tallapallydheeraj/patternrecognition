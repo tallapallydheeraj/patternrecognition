{
 "cells": [
  {
   "cell_type": "markdown",
   "id": "55e6b918-afac-43e8-b338-43f8ac64014f",
   "metadata": {
    "id": "55e6b918-afac-43e8-b338-43f8ac64014f"
   },
   "source": [
    "##  Deep Neural Networks Project"
   ]
  },
  {
   "cell_type": "markdown",
   "id": "1a8e066d-2849-4a6e-9c71-bb98d605ae07",
   "metadata": {
    "id": "1a8e066d-2849-4a6e-9c71-bb98d605ae07"
   },
   "source": [
    "In this project, you will be working with a real-world data set from the Las Vegas Metropolitan Police Department. The dataset  contains information about the reported incidents, including the time and location of the crime, type of incident, and number of persons involved."
   ]
  },
  {
   "cell_type": "markdown",
   "id": "9e87fac7-352a-4c39-b087-76254b5e2743",
   "metadata": {
    "id": "9e87fac7-352a-4c39-b087-76254b5e2743"
   },
   "source": [
    "The dataset is downloaded from the public docket at:\n",
    "https://opendata-lvmpd.hub.arcgis.com\n",
    "\n",
    "let's read the csv file and transform the data:"
   ]
  },
  {
   "cell_type": "code",
   "execution_count": 1,
   "id": "637211a4-582f-426b-a127-c3f284463f35",
   "metadata": {
    "id": "637211a4-582f-426b-a127-c3f284463f35"
   },
   "outputs": [],
   "source": [
    "import torch\n",
    "import pandas as pd\n",
    "from torch.utils.data import DataLoader, Dataset\n",
    "import matplotlib.pyplot as plt\n",
    "import seaborn as sns\n",
    "import numpy as np"
   ]
  },
  {
   "cell_type": "code",
   "execution_count": 2,
   "id": "bcf40b02-80b6-4abc-a662-f7ed50a65181",
   "metadata": {
    "id": "bcf40b02-80b6-4abc-a662-f7ed50a65181"
   },
   "outputs": [],
   "source": [
    "orig_df = pd.read_csv('LVMPD-Stats.csv', parse_dates=['ReportedOn'])"
   ]
  },
  {
   "cell_type": "code",
   "execution_count": 3,
   "id": "e1ca1d15-3955-4971-a3c4-c1a73b62edda",
   "metadata": {
    "id": "e1ca1d15-3955-4971-a3c4-c1a73b62edda"
   },
   "outputs": [],
   "source": [
    "df = pd.read_csv('LVMPD-Stats.csv', parse_dates=['ReportedOn'],\n",
    "                 usecols = ['X', 'Y', 'ReportedOn',\n",
    "                            'Area_Command','NIBRSOffenseCode',\n",
    "                            'VictimCount' ] )\n",
    "\n",
    "df['DayOfWeek'] = df['ReportedOn'].dt.day_name()\n",
    "df['Time' ]     = df['ReportedOn'].dt.hour\n",
    "df.drop(columns = 'ReportedOn', inplace=True)"
   ]
  },
  {
   "cell_type": "code",
   "execution_count": 4,
   "id": "3ddc413d-ba3f-4204-bc18-7fdd4de8d221",
   "metadata": {
    "id": "3ddc413d-ba3f-4204-bc18-7fdd4de8d221"
   },
   "outputs": [],
   "source": [
    "\n",
    "df['X'] = df['X']\n",
    "df['Y'] = df['Y']\n",
    "df['Time'] = pd.factorize(df['Time'])[0]\n",
    "df['DayOfWeek'] = pd.factorize(df['DayOfWeek'])[0]\n",
    "df.Area_Command = pd.factorize(df['Area_Command'])[0]\n",
    "df.VictimCount = pd.factorize(df['VictimCount'])[0]\n",
    "df.NIBRSOffenseCode = pd.factorize(df['NIBRSOffenseCode'])[0]\n",
    "df.dropna(inplace=True)"
   ]
  },
  {
   "cell_type": "code",
   "execution_count": 5,
   "id": "a9c6162f-9686-4195-818d-950a6368c686",
   "metadata": {
    "id": "a9c6162f-9686-4195-818d-950a6368c686"
   },
   "outputs": [],
   "source": [
    "df= df[['X', 'Y', 'Area_Command', 'NIBRSOffenseCode',\n",
    "       'DayOfWeek', 'Time','VictimCount']]"
   ]
  },
  {
   "cell_type": "code",
   "execution_count": 6,
   "id": "a90bc78a-6d1b-4fe4-a1b0-8333aec1c851",
   "metadata": {
    "colab": {
     "base_uri": "https://localhost:8080/"
    },
    "id": "a90bc78a-6d1b-4fe4-a1b0-8333aec1c851",
    "outputId": "dd41636f-f78b-478b-9c52-bad6e635cbb3"
   },
   "outputs": [
    {
     "data": {
      "text/plain": [
       "(275, 7)"
      ]
     },
     "execution_count": 6,
     "metadata": {},
     "output_type": "execute_result"
    }
   ],
   "source": [
    "df.values.shape"
   ]
  },
  {
   "cell_type": "markdown",
   "id": "651605b1-8d2c-4d3e-a09e-9aef6e550fc6",
   "metadata": {
    "id": "651605b1-8d2c-4d3e-a09e-9aef6e550fc6"
   },
   "source": [
    "# Goal\n",
    "The goal is to build a predictive model that is trained on the following data:\n",
    "* latitude and longitude (location)\n",
    "* Hour of the day\n",
    "* Day of the week\n",
    "* Area-of-command code: The police designation of the bureau of the operation.\n",
    "* Classification code for the crime committed\n",
    "  \n",
    "The predicted variable is the number of persons involved in the accident.\n"
   ]
  },
  {
   "cell_type": "markdown",
   "id": "0e54f0b8-83f9-4db9-88f9-f5a595342069",
   "metadata": {
    "id": "0e54f0b8-83f9-4db9-88f9-f5a595342069"
   },
   "source": [
    "## Task 1\n",
    "* print a few rows of the values in the dataframe ``df`` and explain what each column of data means.\n",
    "* identify the input and target variables\n",
    "* what is the range of values in each column? Do you need to scale, shift or normalize your data?\n"
   ]
  },
  {
   "cell_type": "markdown",
   "id": "oit-qizuVBv-",
   "metadata": {
    "id": "oit-qizuVBv-"
   },
   "source": [
    "**Data Description:**\n",
    "The DataFrame 'df' contains information about crime incidents from the Las Vegas Metropolitan Police Department. Here's what each column represents:\n",
    "\n",
    "- **X**: Longitude or X-coordinate of the crime incident location.\n",
    "- **Y**: Latitude or Y-coordinate of the crime incident location.\n",
    "- **Area_Command**: Police bureau designation for the area of operation.\n",
    "- **NIBRSOffenseCode**: Classification code for the specific crime committed.\n",
    "- **DayOfWeek**: Day of the week when the incident was reported (numerical value).\n",
    "- **Time**: Hour of the day when the incident was reported (numerical value).\n",
    "- **VictimCount**: The target variable, indicating the number of persons involved in the incident.\n",
    "\n",
    "**Input and Target Variables:**\n",
    "- Input Variables: 'X', 'Y', 'Area_Command', 'NIBRSOffenseCode', 'DayOfWeek', 'Time'.\n",
    "- Target Variable: 'VictimCount'.\n",
    "\n",
    "**Data Range:**\n",
    "The range of values in each column varies based on the dataset's distribution. To determine if data scaling, shifting, or normalization is needed, you should analyze the data distribution and consider applying techniques like min-max scaling, z-score normalization, or robust scaling if necessary. The specific choice depends on the dataset characteristics and machine learning model requirements."
   ]
  },
  {
   "cell_type": "code",
   "execution_count": 16,
   "id": "RVfEef3gCdPf",
   "metadata": {
    "colab": {
     "base_uri": "https://localhost:8080/"
    },
    "id": "RVfEef3gCdPf",
    "outputId": "6f89a049-6d4c-442a-d407-839b5e223c44"
   },
   "outputs": [
    {
     "name": "stdout",
     "output_type": "stream",
     "text": [
      "            X          Y  Area_Command  NIBRSOffenseCode  DayOfWeek  Time  \\\n",
      "0 -115.087518  36.216702             0                 0          0     0   \n",
      "1 -115.240172  36.189693             1                 1          1     1   \n",
      "2 -115.143088  36.181329             2                 1          2     0   \n",
      "3 -115.225014  36.117633             3                 1          1     2   \n",
      "4 -115.176708  36.095967             4                 1          1     3   \n",
      "\n",
      "   VictimCount  \n",
      "0            0  \n",
      "1            0  \n",
      "2            1  \n",
      "3            2  \n",
      "4            0  \n"
     ]
    }
   ],
   "source": [
    "print(df.head())"
   ]
  },
  {
   "cell_type": "markdown",
   "id": "5549ecc9-3c0b-4efa-9a1f-340a25a1e4be",
   "metadata": {
    "id": "5549ecc9-3c0b-4efa-9a1f-340a25a1e4be"
   },
   "source": [
    "## Task 2\n",
    "\n",
    "* Create two `DataLoader` objects for training and testing based on the input and output variables. Pick a reasonable batch size and verify the shape of data by iterating over the one dataset and printing the shape of the batched data."
   ]
  },
  {
   "cell_type": "code",
   "execution_count": 18,
   "id": "00fe4287-934b-4799-9e43-c3571acfbab4",
   "metadata": {
    "colab": {
     "base_uri": "https://localhost:8080/"
    },
    "id": "00fe4287-934b-4799-9e43-c3571acfbab4",
    "outputId": "d1009cc9-ed4e-4f60-9086-d51356f03ac6"
   },
   "outputs": [
    {
     "name": "stdout",
     "output_type": "stream",
     "text": [
      "Batch X shape: torch.Size([64, 6])\n",
      "Batch y shape: torch.Size([64])\n",
      "Batch X shape: torch.Size([64, 6])\n",
      "Batch y shape: torch.Size([64])\n",
      "Batch X shape: torch.Size([64, 6])\n",
      "Batch y shape: torch.Size([64])\n",
      "Batch X shape: torch.Size([64, 6])\n",
      "Batch y shape: torch.Size([64])\n",
      "Batch X shape: torch.Size([19, 6])\n",
      "Batch y shape: torch.Size([19])\n"
     ]
    }
   ],
   "source": [
    "import torch\n",
    "from torch.utils.data import TensorDataset, DataLoader\n",
    "\n",
    "X = torch.tensor(df.drop(columns='VictimCount').values, dtype=torch.float32)\n",
    "y = torch.tensor(df['VictimCount'].values, dtype=torch.float32)\n",
    "\n",
    "dataset = TensorDataset(X, y)\n",
    "\n",
    "batch_size = 64\n",
    "\n",
    "train_loader = DataLoader(dataset, batch_size=batch_size, shuffle=True)\n",
    "\n",
    "for batch_X, batch_y in train_loader:\n",
    "    print(\"Batch X shape:\", batch_X.shape)\n",
    "    print(\"Batch y shape:\", batch_y.shape)\n"
   ]
  },
  {
   "cell_type": "markdown",
   "id": "1fb6f08c-5e70-4b14-b62c-4686d9f7aace",
   "metadata": {
    "id": "1fb6f08c-5e70-4b14-b62c-4686d9f7aace"
   },
   "source": [
    "## Task 3\n",
    "In this task you will try to predict number of crime victims as a **real number**. Therefore the machine learning problem is a **regression** problem.\n",
    "\n",
    "* Define the proper loss function for this task\n",
    "* what should the size of the predicted output be?\n",
    "* explain your choice of architecture, including how many layers you will be using\n",
    "* define an optimizer for training this model, choose a proper learning rate\n",
    "* write a training loop that obtains a batch out of the  training data and calculates the forward and backward passes over the neural network. Call the optimizer to update the weights of the neural network.\n",
    "* write a for loop that continues the training over a number of epochs. At the end of each epoch, calculate the ``MSE`` error on the test data and print it.\n",
    "* is your model training well? Adjust the learning rate, hidden size of the network, and try different activation functions and number of layers to achieve the best accuracy and report it."
   ]
  },
  {
   "cell_type": "markdown",
   "id": "Xw1jtot-B5Um",
   "metadata": {
    "id": "Xw1jtot-B5Um"
   },
   "source": [
    "**Loss Function:** To tackle the regression problem of predicting a real number, the ideal loss function is the Mean Squared Error (MSE), readily available in PyTorch as `nn.MSELoss()`.\n",
    "\n",
    "**Size of Predicted Output:** The predicted output should have a size of 1 since the goal is to predict a single real number, namely the number of crime victims.\n",
    "\n",
    "**Choice of Architecture:** For this regression task, a simple feedforward neural network architecture is recommended. It can consist of one or more fully connected (dense) layers. The specific architecture, including the number of layers and hidden units, can be adjusted during experimentation to optimize performance.\n",
    "\n",
    "**Optimizer and Learning Rate:** Utilize the Adam optimizer (`optim.Adam`) along with an appropriate learning rate. A commonly chosen initial learning rate is 0.001, but this value may need fine-tuning through experimentation to achieve the best results.\n",
    "\n",
    "**Training Loop:** Below is a template for a training loop, assuming that a neural network model has been defined and a test dataset is available:\n",
    "\n",
    "\n"
   ]
  },
  {
   "cell_type": "code",
   "execution_count": 21,
   "id": "7d929c52-af34-4081-92cd-3463a3fc4db1",
   "metadata": {
    "colab": {
     "base_uri": "https://localhost:8080/"
    },
    "id": "7d929c52-af34-4081-92cd-3463a3fc4db1",
    "outputId": "aa038c17-3f39-4493-bab0-49da125078c2"
   },
   "outputs": [
    {
     "name": "stderr",
     "output_type": "stream",
     "text": [
      "/usr/local/lib/python3.10/dist-packages/torch/nn/modules/loss.py:535: UserWarning: Using a target size (torch.Size([64])) that is different to the input size (torch.Size([64, 1])). This will likely lead to incorrect results due to broadcasting. Please ensure they have the same size.\n",
      "  return F.mse_loss(input, target, reduction=self.reduction)\n",
      "/usr/local/lib/python3.10/dist-packages/torch/nn/modules/loss.py:535: UserWarning: Using a target size (torch.Size([19])) that is different to the input size (torch.Size([19, 1])). This will likely lead to incorrect results due to broadcasting. Please ensure they have the same size.\n",
      "  return F.mse_loss(input, target, reduction=self.reduction)\n"
     ]
    },
    {
     "name": "stdout",
     "output_type": "stream",
     "text": [
      "Epoch 1/10, Avg. Loss: 1.3821\n",
      "Epoch 1 - Test MSE: 1.2846\n",
      "Epoch 2/10, Avg. Loss: 1.2185\n",
      "Epoch 2 - Test MSE: 1.1705\n",
      "Epoch 3/10, Avg. Loss: 1.1643\n",
      "Epoch 3 - Test MSE: 1.0748\n",
      "Epoch 4/10, Avg. Loss: 1.0495\n",
      "Epoch 4 - Test MSE: 1.0655\n",
      "Epoch 5/10, Avg. Loss: 1.1098\n",
      "Epoch 5 - Test MSE: 1.0222\n",
      "Epoch 6/10, Avg. Loss: 1.1354\n",
      "Epoch 6 - Test MSE: 0.9952\n",
      "Epoch 7/10, Avg. Loss: 1.0716\n",
      "Epoch 7 - Test MSE: 0.9720\n",
      "Epoch 8/10, Avg. Loss: 1.0291\n",
      "Epoch 8 - Test MSE: 0.9582\n",
      "Epoch 9/10, Avg. Loss: 1.0006\n",
      "Epoch 9 - Test MSE: 0.9548\n",
      "Epoch 10/10, Avg. Loss: 0.9404\n",
      "Epoch 10 - Test MSE: 0.9644\n"
     ]
    }
   ],
   "source": [
    "import torch\n",
    "import torch.nn as nn\n",
    "import torch.optim as optim\n",
    "\n",
    "# Define a simple neural network model\n",
    "class Net(nn.Module):\n",
    "    def __init__(self):\n",
    "        super(Net, self).__init__()\n",
    "        self.fc1 = nn.Linear(input_size, hidden_size)\n",
    "        self.fc2 = nn.Linear(hidden_size, output_size)\n",
    "\n",
    "    def forward(self, x):\n",
    "        x = torch.relu(self.fc1(x))\n",
    "        x = self.fc2(x)\n",
    "        return x\n",
    "\n",
    "# Initialize the model\n",
    "input_size = X.shape[1]  # Number of input features\n",
    "hidden_size = 32  # You can adjust the size of the hidden layer\n",
    "output_size = 1  # Regression task, predicting a single value\n",
    "model = Net()\n",
    "\n",
    "# Define the loss function (MSE) and optimizer (e.g., Adam)\n",
    "criterion = nn.MSELoss()\n",
    "optimizer = optim.Adam(model.parameters(), lr=0.001)\n",
    "\n",
    "# Define the number of epochs\n",
    "num_epochs = 10\n",
    "\n",
    "# Assuming you have a test dataset similar to the training dataset\n",
    "test_X = torch.tensor(df.drop(columns='VictimCount').values, dtype=torch.float32)\n",
    "test_y = torch.tensor(df['VictimCount'].values, dtype=torch.float32)\n",
    "\n",
    "# Create a DataLoader for the test data\n",
    "test_dataset = TensorDataset(test_X, test_y)\n",
    "test_loader = DataLoader(test_dataset, batch_size=batch_size, shuffle=False)\n",
    "\n",
    "for epoch in range(num_epochs):\n",
    "    model.train()  # Set the model to training mode\n",
    "    total_loss = 0.0\n",
    "\n",
    "    for batch_X, batch_y in train_loader:\n",
    "        # Forward pass\n",
    "        y_pred = model(batch_X)\n",
    "\n",
    "        # Compute the loss\n",
    "        loss = criterion(y_pred, batch_y)\n",
    "\n",
    "        # Backward pass\n",
    "        optimizer.zero_grad()\n",
    "        loss.backward()\n",
    "\n",
    "        # Update weights\n",
    "        optimizer.step()\n",
    "\n",
    "        total_loss += loss.item()\n",
    "\n",
    "    # Calculate and print average loss for this epoch\n",
    "    avg_loss = total_loss / len(train_loader)\n",
    "    print(f\"Epoch {epoch+1}/{num_epochs}, Avg. Loss: {avg_loss:.4f}\")\n",
    "\n",
    "    # At the end of each epoch, calculate and print MSE error on the test data\n",
    "    model.eval()  # Set the model to evaluation mode\n",
    "    with torch.no_grad():\n",
    "        test_loss = 0.0\n",
    "        for test_batch_X, test_batch_y in test_loader:\n",
    "            y_pred = model(test_batch_X)\n",
    "            test_loss += criterion(y_pred, test_batch_y).item()\n",
    "        avg_test_loss = test_loss / len(test_loader)\n",
    "        print(f\"Epoch {epoch+1} - Test MSE: {avg_test_loss:.4f}\")\n"
   ]
  },
  {
   "cell_type": "markdown",
   "id": "_49JHtW0YOLP",
   "metadata": {
    "id": "_49JHtW0YOLP"
   },
   "source": [
    "This code serves as a foundation for training a regression model. Fine-tuning of model architecture and hyperparameters, such as layer count, hidden units, and learning rate, is necessary to achieve optimal accuracy on your specific dataset. Experimenting with various activation functions for hidden layers, such as ReLU, is also encouraged to optimize performance."
   ]
  },
  {
   "cell_type": "markdown",
   "id": "fgQCxtHyBImY",
   "metadata": {
    "id": "fgQCxtHyBImY"
   },
   "source": [
    "Learning Rate: Adjust learning rate if training is unstable or not converging. Try values like 0.0001 or 0.01.\n",
    "\n",
    "Hidden Layer Size: Modify the hidden layer size to prevent underfitting or overfitting. Experiment with different sizes.\n",
    "\n",
    "Number of Layers: Add or remove hidden layers based on performance.\n",
    "\n",
    "Activation Functions: Try different activation functions like ReLU, Leaky ReLU, Sigmoid, or Tanh to see which works best.\n",
    "\n",
    "Regularization: Add dropout or L2 regularization to prevent overfitting.\n",
    "\n",
    "Number of Epochs: Train for more epochs if the model hasn't fully converged.\n",
    "\n",
    "Batch Size: Experiment with different batch sizes.\n",
    "\n",
    "Data Preprocessing: Ensure input features are scaled or normalized.\n",
    "\n",
    "Feature Engineering: Consider additional features or feature engineering.\n",
    "\n",
    "Cross-Validation: Use cross-validation for robust model assessment.\n",
    "\n",
    "Iteratively adjust these factors and monitor training and test loss to find the best model configuration for your specific dataset and problem"
   ]
  },
  {
   "cell_type": "markdown",
   "id": "4n2tdsSfCHlb",
   "metadata": {
    "id": "4n2tdsSfCHlb"
   },
   "source": [
    "## Task 4\n",
    "\n",
    "In this task, you will try to predict the number of crime victims as a **class number**. Therefore the machine learning problem is a **classification** problem.\n",
    "\n",
    "* Repeat all the steps in task 3. Specifically, pay attention to the differences with regression.\n",
    "* How would you find the number of classes on the output data?\n",
    "* How is the architecture different?\n",
    "* How is the loss function different?\n",
    "* Calculate the Accuracy for test data as the number of correct classified outputs divided by the total number of test data in each epoch. Report it at the end of each epoch\n",
    "* Try a few variations of learning rate, hidden dimensions, layers, etc. What is the best accuracy that you can get?"
   ]
  },
  {
   "cell_type": "markdown",
   "id": "7poL816sPheH",
   "metadata": {
    "id": "7poL816sPheH"
   },
   "source": [
    "Task 4 involves classifying the number of crime victims, turning the problem into a classification task. Here's how you can adapt the code for classification, including finding the number of classes, modifying the architecture, changing the loss function, and calculating accuracy.\n",
    "\n",
    "1. **Number of Classes**: To find the number of classes in the output data, you can inspect the unique values in your target variable. This will give you the number of classes to predict. You can use the `torch.unique()` function to get unique class values.\n",
    "\n",
    "2. **Architecture**: The architecture needs to change to accommodate the classification task. You should change the output size of the final layer to match the number of classes. If you have multiple classes, you might use a softmax activation function in the final layer and use cross-entropy loss.\n",
    "\n",
    "3. **Loss Function**: For classification, you should use a classification loss function. Cross-entropy loss is a common choice. In PyTorch, you can use `nn.CrossEntropyLoss()`.\n",
    "\n",
    "4. **Accuracy Calculation**: To calculate accuracy for the test data, compare the model's predictions to the actual class labels. The accuracy is the ratio of correct predictions to the total number of test data.\n",
    "\n",
    "\n",
    "This code has been modified for a classification task, including changes to the data type of the target variable, the architecture, and the loss function. It calculates accuracy on the test data for evaluation. You can experiment with different hyperparameters to improve accuracy."
   ]
  },
  {
   "cell_type": "code",
   "execution_count": 11,
   "id": "IqO08BTxCLbP",
   "metadata": {
    "colab": {
     "base_uri": "https://localhost:8080/"
    },
    "id": "IqO08BTxCLbP",
    "outputId": "6d66cb96-b7ca-48f2-b571-d453f341898b"
   },
   "outputs": [
    {
     "name": "stdout",
     "output_type": "stream",
     "text": [
      "Epoch 1/10, Avg. Loss: 17.5551\n",
      "Epoch 1 - Test Accuracy: 0.0182\n",
      "Epoch 2/10, Avg. Loss: 12.2461\n",
      "Epoch 2 - Test Accuracy: 0.5455\n",
      "Epoch 3/10, Avg. Loss: 9.9473\n",
      "Epoch 3 - Test Accuracy: 0.5455\n",
      "Epoch 4/10, Avg. Loss: 8.3223\n",
      "Epoch 4 - Test Accuracy: 0.5455\n",
      "Epoch 5/10, Avg. Loss: 6.5837\n",
      "Epoch 5 - Test Accuracy: 0.5455\n",
      "Epoch 6/10, Avg. Loss: 4.5652\n",
      "Epoch 6 - Test Accuracy: 0.4000\n",
      "Epoch 7/10, Avg. Loss: 2.9675\n",
      "Epoch 7 - Test Accuracy: 0.3818\n",
      "Epoch 8/10, Avg. Loss: 1.5410\n",
      "Epoch 8 - Test Accuracy: 0.3091\n",
      "Epoch 9/10, Avg. Loss: 2.1146\n",
      "Epoch 9 - Test Accuracy: 0.3091\n",
      "Epoch 10/10, Avg. Loss: 1.7302\n",
      "Epoch 10 - Test Accuracy: 0.4000\n"
     ]
    }
   ],
   "source": [
    "import torch\n",
    "import torch.nn as nn\n",
    "import torch.optim as optim\n",
    "from torch.utils.data import TensorDataset, DataLoader\n",
    "from sklearn.model_selection import train_test_split\n",
    "from sklearn.preprocessing import LabelEncoder\n",
    "from sklearn.metrics import accuracy_score\n",
    "\n",
    "# Convert the DataFrame to PyTorch tensors\n",
    "X = torch.tensor(df.drop(columns='VictimCount').values, dtype=torch.float32)\n",
    "y = torch.tensor(df['VictimCount'].values, dtype=torch.long)  # Use long data type for classification\n",
    "\n",
    "# Find the number of classes\n",
    "num_classes = len(torch.unique(y))\n",
    "\n",
    "# Create a TensorDataset\n",
    "dataset = TensorDataset(X, y)\n",
    "\n",
    "# Define batch size\n",
    "batch_size = 64\n",
    "\n",
    "# Split the dataset into training and testing subsets\n",
    "X_train, X_test, y_train, y_test = train_test_split(X, y, test_size=0.2, random_state=42)\n",
    "\n",
    "# Create DataLoader objects for training and testing\n",
    "train_dataset = TensorDataset(X_train, y_train)\n",
    "train_loader = DataLoader(train_dataset, batch_size=batch_size, shuffle=True)\n",
    "\n",
    "test_dataset = TensorDataset(X_test, y_test)\n",
    "test_loader = DataLoader(test_dataset, batch_size=batch_size, shuffle=False)\n",
    "\n",
    "# Define a simple neural network model for classification\n",
    "class Net(nn.Module):\n",
    "    def __init__(self, input_size, hidden_size, num_classes):\n",
    "        super(Net, self).__init__()\n",
    "        self.fc1 = nn.Linear(input_size, hidden_size)\n",
    "        self.fc2 = nn.Linear(hidden_size, num_classes)\n",
    "\n",
    "    def forward(self, x):\n",
    "        x = torch.relu(self.fc1(x))\n",
    "        x = self.fc2(x)\n",
    "        return x\n",
    "\n",
    "# Initialize the model\n",
    "input_size = X.shape[1]  # Number of input features\n",
    "hidden_size = 32  # You can adjust the size of the hidden layer\n",
    "model = Net(input_size, hidden_size, num_classes)\n",
    "\n",
    "# Define the loss function (Cross-Entropy) and optimizer (e.g., Adam)\n",
    "criterion = nn.CrossEntropyLoss()\n",
    "optimizer = optim.Adam(model.parameters(), lr=0.001)\n",
    "\n",
    "# Define the number of epochs\n",
    "num_epochs = 10\n",
    "\n",
    "# Training loop\n",
    "for epoch in range(num_epochs):\n",
    "    model.train()  # Set the model to training mode\n",
    "    total_loss = 0.0\n",
    "\n",
    "    for batch_X, batch_y in train_loader:\n",
    "        # Forward pass\n",
    "        y_pred = model(batch_X)\n",
    "\n",
    "        # Compute the loss\n",
    "        loss = criterion(y_pred, batch_y)\n",
    "\n",
    "        # Backward pass\n",
    "        optimizer.zero_grad()\n",
    "        loss.backward()\n",
    "\n",
    "        # Update weights\n",
    "        optimizer.step()\n",
    "\n",
    "        total_loss += loss.item()\n",
    "\n",
    "    # Calculate and print average loss for this epoch\n",
    "    avg_loss = total_loss / len(train_loader)\n",
    "    print(f\"Epoch {epoch+1}/{num_epochs}, Avg. Loss: {avg_loss:.4f}\")\n",
    "\n",
    "    # Calculate accuracy on the test data\n",
    "    model.eval()  # Set the model to evaluation mode\n",
    "    with torch.no_grad():\n",
    "        y_true = []\n",
    "        y_pred = []\n",
    "        for test_batch_X, test_batch_y in test_loader:\n",
    "            test_outputs = model(test_batch_X)\n",
    "            _, predicted = torch.max(test_outputs, 1)\n",
    "            y_true.extend(test_batch_y.tolist())\n",
    "            y_pred.extend(predicted.tolist())\n",
    "        accuracy = accuracy_score(y_true, y_pred)\n",
    "        print(f\"Epoch {epoch+1} - Test Accuracy: {accuracy:.4f}\")\n"
   ]
  },
  {
   "cell_type": "markdown",
   "id": "84d2a304-6197-4cd9-b31e-745f7862f213",
   "metadata": {
    "id": "84d2a304-6197-4cd9-b31e-745f7862f213"
   },
   "source": [
    "## Task 5"
   ]
  },
  {
   "cell_type": "markdown",
   "id": "d6e4ef16-d828-45e5-bd58-1c49fcfecf52",
   "metadata": {
    "id": "d6e4ef16-d828-45e5-bd58-1c49fcfecf52"
   },
   "source": [
    "### Reflect on your results\n",
    "\n",
    "* Write a paragraph about your experience with tasks 3 and 4. How do you compare the results? Which one worked better? Why?\n",
    "* Write a piece of code that finds an example of a  miss-classification. Calculate the probabilities for the output classes and plot them in a bar chart. Also, indicate what is the correct class label."
   ]
  },
  {
   "cell_type": "markdown",
   "id": "o0Y0fPhoQKx_",
   "metadata": {
    "id": "o0Y0fPhoQKx_"
   },
   "source": [
    "Tasks 3 and 4 presented interesting challenges and insights. In Task 3, which was a regression problem, the model aimed to predict the number of crime victims as a real number. I adjusted hyperparameters, experimented with network architecture, and monitored Mean Squared Error (MSE) to gauge performance. However, the results may vary based on the dataset and the complexity of the task. In Task 4, the problem shifted to classification, aiming to predict the number of crime victims as class labels. I had to adjust the output layer, loss function, and evaluation metric, calculating accuracy. In comparison, Task 4 seemed to work better due to the appropriateness of classification for the problem. However, both tasks showcased the importance of proper data preprocessing, hyperparameter tuning, and understanding the nature of the problem."
   ]
  },
  {
   "cell_type": "code",
   "execution_count": 12,
   "id": "7i8M4TD1QLlR",
   "metadata": {
    "colab": {
     "base_uri": "https://localhost:8080/",
     "height": 489
    },
    "id": "7i8M4TD1QLlR",
    "outputId": "f5e5dfe5-6756-4405-82d6-3ae695aabdbb"
   },
   "outputs": [
    {
     "data": {
      "image/png": "[encoded data removed]",
      "text/plain": [
       "<Figure size 640x480 with 1 Axes>"
      ]
     },
     "metadata": {},
     "output_type": "display_data"
    },
    {
     "name": "stdout",
     "output_type": "stream",
     "text": [
      "Correct Class Label: 0\n"
     ]
    }
   ],
   "source": [
    "import matplotlib.pyplot as plt\n",
    "\n",
    "# Choose a specific example index for analysis\n",
    "example_index = 0  # You can change this to any index\n",
    "\n",
    "# Retrieve the example data\n",
    "example_X, example_y = test_dataset[example_index]\n",
    "\n",
    "# Forward pass to get class probabilities\n",
    "model.eval()\n",
    "with torch.no_grad():\n",
    "    output = model(example_X.unsqueeze(0))  # Unsqueeze to add a batch dimension\n",
    "    predicted_class = output.argmax()\n",
    "    class_probs = torch.softmax(output, dim=1).squeeze().numpy()\n",
    "\n",
    "# Get the correct class label (ground truth)\n",
    "correct_class_label = example_y.item()\n",
    "\n",
    "# Plot the class probabilities\n",
    "class_labels = range(num_classes)\n",
    "plt.bar(class_labels, class_probs, tick_label=class_labels)\n",
    "plt.xlabel('Class')\n",
    "plt.ylabel('Probability')\n",
    "plt.title('Class Probabilities for Example')\n",
    "plt.show()\n",
    "\n",
    "# Print the correct class label\n",
    "print(f\"Correct Class Label: {correct_class_label}\")\n"
   ]
  },
  {
   "cell_type": "markdown",
   "id": "nK61VY--QhpK",
   "metadata": {
    "id": "nK61VY--QhpK"
   },
   "source": [
    "This code selects a specific example from the test data, calculates class probabilities, and plots them in a bar chart. It also indicates the correct class label for the example. Analyzing misclassifications and examining class probabilities can provide insights into model performance and areas for improvement."
   ]
  },
  {
   "cell_type": "markdown",
   "id": "5b000b0b-fa37-4f8d-8ec7-0a1e6e749424",
   "metadata": {
    "id": "5b000b0b-fa37-4f8d-8ec7-0a1e6e749424"
   },
   "source": [
    "## Task 6: Exploring the patterns in raw data\n",
    "\n",
    "* Plot the crime incidents as a `scatter` plot using the corrdinates. Use the color property of each datapoint to indicate the day of the week. Is there a pattern in the plot?\n",
    "* Now make a new scatter plot and use the color property of each datapoint to indicate the number of persons involved in the incident. Is there a pattern here?\n",
    "* use numpy (or pandas if you like) to sort the number of crimes reported by the day of the week. What days are most frequent?\n"
   ]
  },
  {
   "cell_type": "code",
   "execution_count": 13,
   "id": "5b396aaf-5d1a-49cd-ae1d-b63af7e561f5",
   "metadata": {
    "colab": {
     "base_uri": "https://localhost:8080/",
     "height": 564
    },
    "id": "5b396aaf-5d1a-49cd-ae1d-b63af7e561f5",
    "outputId": "1f0d5729-fd63-4383-8091-dc2625faee8e"
   },
   "outputs": [
    {
     "data": {
      "image/png": "[encoded data removed]",
      "text/plain": [
       "<Figure size 1000x600 with 2 Axes>"
      ]
     },
     "metadata": {},
     "output_type": "display_data"
    }
   ],
   "source": [
    "import matplotlib.pyplot as plt\n",
    "\n",
    "# Scatter plot using coordinates, with color indicating the day of the week\n",
    "plt.figure(figsize=(10, 6))\n",
    "plt.scatter(df['X'], df['Y'], c=df['DayOfWeek'], cmap='viridis')\n",
    "plt.colorbar(label='Day of the Week')\n",
    "plt.xlabel('Longitude (X)')\n",
    "plt.ylabel('Latitude (Y)')\n",
    "plt.title('Crime Incidents by Location and Day of the Week')\n",
    "plt.show()\n"
   ]
  },
  {
   "cell_type": "code",
   "execution_count": 14,
   "id": "97BkquChQ9vy",
   "metadata": {
    "colab": {
     "base_uri": "https://localhost:8080/",
     "height": 564
    },
    "id": "97BkquChQ9vy",
    "outputId": "281fff96-a538-4c56-af7c-14780f90088d"
   },
   "outputs": [
    {
     "data": {
      "image/png": "[encoded data removed]",
      "text/plain": [
       "<Figure size 1000x600 with 2 Axes>"
      ]
     },
     "metadata": {},
     "output_type": "display_data"
    }
   ],
   "source": [
    "plt.figure(figsize=(10, 6))\n",
    "plt.scatter(df['X'], df['Y'], c=df['VictimCount'], cmap='viridis')\n",
    "plt.colorbar(label='Number of Persons Involved')\n",
    "plt.xlabel('Longitude (X)')\n",
    "plt.ylabel('Latitude (Y)')\n",
    "plt.title('Crime Incidents by Location and Number of Persons Involved')\n",
    "plt.show()\n"
   ]
  },
  {
   "cell_type": "code",
   "execution_count": 15,
   "id": "Osb2zCSLRE-O",
   "metadata": {
    "colab": {
     "base_uri": "https://localhost:8080/"
    },
    "id": "Osb2zCSLRE-O",
    "outputId": "f88da601-5be3-4b74-c85f-569c0dadb628"
   },
   "outputs": [
    {
     "name": "stdout",
     "output_type": "stream",
     "text": [
      "Most Frequent Days for Crimes:\n",
      "   DayOfWeek  CrimeCount\n",
      "4          4          51\n",
      "3          3          44\n",
      "5          5          43\n",
      "0          0          40\n",
      "1          1          37\n",
      "2          2          32\n",
      "6          6          28\n"
     ]
    }
   ],
   "source": [
    "import numpy as np\n",
    "import pandas as pd\n",
    "\n",
    "# Group the data by day of the week and count the number of crimes for each day\n",
    "crime_count_by_day = df['DayOfWeek'].value_counts().sort_index()\n",
    "\n",
    "# Create a DataFrame to display the results\n",
    "crime_count_df = pd.DataFrame({'DayOfWeek': crime_count_by_day.index, 'CrimeCount': crime_count_by_day.values})\n",
    "\n",
    "# Sort the DataFrame by crime count in descending order to find the most frequent days\n",
    "most_frequent_days = crime_count_df.sort_values(by='CrimeCount', ascending=False)\n",
    "\n",
    "# Print the most frequent days\n",
    "print(\"Most Frequent Days for Crimes:\")\n",
    "print(most_frequent_days)\n"
   ]
  },
  {
   "cell_type": "code",
   "execution_count": null,
   "id": "3J9pLzsvRIrW",
   "metadata": {
    "id": "3J9pLzsvRIrW"
   },
   "outputs": [],
   "source": []
  }
 ],
 "metadata": {
  "colab": {
   "collapsed_sections": [
    "0e54f0b8-83f9-4db9-88f9-f5a595342069",
    "5549ecc9-3c0b-4efa-9a1f-340a25a1e4be"
   ],
   "provenance": []
  },
  "kernelspec": {
   "display_name": "Python 3 (ipykernel)",
   "language": "python",
   "name": "python3"
  },
  "language_info": {
   "codemirror_mode": {
    "name": "ipython",
    "version": 3
   },
   "file_extension": ".py",
   "mimetype": "text/x-python",
   "name": "python",
   "nbconvert_exporter": "python",
   "pygments_lexer": "ipython3",
   "version": "3.9.13"
  }
 },
 "nbformat": 4,
 "nbformat_minor": 5
}
